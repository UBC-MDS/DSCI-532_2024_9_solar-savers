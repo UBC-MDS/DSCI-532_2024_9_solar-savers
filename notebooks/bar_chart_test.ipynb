{
 "cells": [
  {
   "cell_type": "code",
   "execution_count": 1,
   "metadata": {},
   "outputs": [],
   "source": [
    "import os\n",
    "import geopandas as gpd\n",
    "import pandas as pd\n",
    "import pyarrow as pa\n",
    "from shapely import wkb\n",
    "import altair as alt"
   ]
  },
  {
   "cell_type": "code",
   "execution_count": 2,
   "metadata": {},
   "outputs": [],
   "source": [
    "price_df = pd.read_csv(\"../data/raw/pricePerProvince.csv\", encoding='latin1').sort_values(by='price', ascending=False)\n",
    "alt_data = pd.read_parquet('../data/processed/kWh_poly.parquet')\n",
    "alt_data['geometry'] = alt_data['geometry'].apply(wkb.loads)\n",
    "alt_data = gpd.GeoDataFrame(alt_data)\n",
    "gdf_ca = gpd.read_parquet('../data/processed/ne_50m_admin_1_states_provinces.parquet')\n",
    "panel_df = pd.read_csv('../data/raw/panels.csv')"
   ]
  },
  {
   "cell_type": "code",
   "execution_count": 3,
   "metadata": {},
   "outputs": [],
   "source": [
    "province = \"British Columbia\"\n",
    "region = \"Vancouver\""
   ]
  },
  {
   "cell_type": "code",
   "execution_count": 4,
   "metadata": {},
   "outputs": [],
   "source": [
    "province_price = price_df[(price_df['province'] == province)][\"price\"].iloc[0] / 100\n",
    "filtered_row = alt_data[(alt_data['Province'] == province) & (alt_data['Municipality'] == region) & (alt_data['Month'] == 'Annual')]"
   ]
  },
  {
   "cell_type": "code",
   "execution_count": 5,
   "metadata": {},
   "outputs": [
    {
     "data": {
      "text/html": [
       "<div>\n",
       "<style scoped>\n",
       "    .dataframe tbody tr th:only-of-type {\n",
       "        vertical-align: middle;\n",
       "    }\n",
       "\n",
       "    .dataframe tbody tr th {\n",
       "        vertical-align: top;\n",
       "    }\n",
       "\n",
       "    .dataframe thead th {\n",
       "        text-align: right;\n",
       "    }\n",
       "</style>\n",
       "<table border=\"1\" class=\"dataframe\">\n",
       "  <thead>\n",
       "    <tr style=\"text-align: right;\">\n",
       "      <th></th>\n",
       "      <th>name</th>\n",
       "      <th>full name</th>\n",
       "      <th>efficiency</th>\n",
       "      <th>price</th>\n",
       "      <th>length (mm)</th>\n",
       "      <th>width (mm)</th>\n",
       "    </tr>\n",
       "  </thead>\n",
       "  <tbody>\n",
       "    <tr>\n",
       "      <th>0</th>\n",
       "      <td>Canadian Solar 340W (309 CAD)</td>\n",
       "      <td>Canadian Solar 340W Solar Panel | CS1H-340MS</td>\n",
       "      <td>0.189</td>\n",
       "      <td>309.0</td>\n",
       "      <td>1701.8</td>\n",
       "      <td>1016.0</td>\n",
       "    </tr>\n",
       "    <tr>\n",
       "      <th>1</th>\n",
       "      <td>Canadian Solar 445W (389 CAD)</td>\n",
       "      <td>Canadian Solar Bi-facial 445W Solar Panel | CS...</td>\n",
       "      <td>0.189</td>\n",
       "      <td>389.0</td>\n",
       "      <td>2133.6</td>\n",
       "      <td>1066.8</td>\n",
       "    </tr>\n",
       "    <tr>\n",
       "      <th>2</th>\n",
       "      <td>Elios Voltaic 210W (299 CAD)</td>\n",
       "      <td>Elios Voltaic 210F-B | 210W Semi-Flexible Balc...</td>\n",
       "      <td>0.193</td>\n",
       "      <td>299.0</td>\n",
       "      <td>1083.0</td>\n",
       "      <td>1104.0</td>\n",
       "    </tr>\n",
       "    <tr>\n",
       "      <th>3</th>\n",
       "      <td>Elios Voltaic 210W (350 CAD)</td>\n",
       "      <td>Elios Voltaic 210F-T | 210W Semi-Flexible Sola...</td>\n",
       "      <td>0.193</td>\n",
       "      <td>350.0</td>\n",
       "      <td>1083.0</td>\n",
       "      <td>1040.0</td>\n",
       "    </tr>\n",
       "    <tr>\n",
       "      <th>4</th>\n",
       "      <td>Elois Voltaic 110W (139 CAD)</td>\n",
       "      <td>Elios Voltaic110F | 110W Semi-Flexible Solar P...</td>\n",
       "      <td>0.193</td>\n",
       "      <td>139.0</td>\n",
       "      <td>1079.5</td>\n",
       "      <td>562.0</td>\n",
       "    </tr>\n",
       "  </tbody>\n",
       "</table>\n",
       "</div>"
      ],
      "text/plain": [
       "                           name   \\\n",
       "0  Canadian Solar 340W (309 CAD)   \n",
       "1  Canadian Solar 445W (389 CAD)   \n",
       "2   Elios Voltaic 210W (299 CAD)   \n",
       "3   Elios Voltaic 210W (350 CAD)   \n",
       "4   Elois Voltaic 110W (139 CAD)   \n",
       "\n",
       "                                          full name   efficiency   price   \\\n",
       "0       Canadian Solar 340W Solar Panel | CS1H-340MS        0.189   309.0   \n",
       "1  Canadian Solar Bi-facial 445W Solar Panel | CS...        0.189   389.0   \n",
       "2  Elios Voltaic 210F-B | 210W Semi-Flexible Balc...        0.193   299.0   \n",
       "3  Elios Voltaic 210F-T | 210W Semi-Flexible Sola...        0.193   350.0   \n",
       "4  Elios Voltaic110F | 110W Semi-Flexible Solar P...        0.193   139.0   \n",
       "\n",
       "   length (mm)   width (mm)  \n",
       "0        1701.8      1016.0  \n",
       "1        2133.6      1066.8  \n",
       "2        1083.0      1104.0  \n",
       "3        1083.0      1040.0  \n",
       "4        1079.5       562.0  "
      ]
     },
     "execution_count": 5,
     "metadata": {},
     "output_type": "execute_result"
    }
   ],
   "source": [
    "panel_df.head()"
   ]
  },
  {
   "cell_type": "code",
   "execution_count": 6,
   "metadata": {},
   "outputs": [],
   "source": [
    "conversion_rate = {row['name ']: row['efficiency '] for index, row in panel_df.iterrows()}"
   ]
  },
  {
   "cell_type": "code",
   "execution_count": 7,
   "metadata": {},
   "outputs": [
    {
     "data": {
      "text/plain": [
       "{'Canadian Solar 340W (309 CAD)': 0.189,\n",
       " 'Canadian Solar 445W (389 CAD)': 0.189,\n",
       " 'Elios Voltaic 210W (299 CAD)': 0.193,\n",
       " 'Elios Voltaic 210W (350 CAD)': 0.193,\n",
       " 'Elois Voltaic 110W (139 CAD)': 0.193,\n",
       " 'Elios Voltaic 200W (275 CAD)': 0.229,\n",
       " 'Elios Voltaic 400W (225 CAD)': 0.205,\n",
       " 'Elios Voltaic 550W (319 CAD)': 0.213,\n",
       " 'Hanwha 400W (385 CAD)': 0.196,\n",
       " 'Hanwha 470W (424 CAD)': 0.203,\n",
       " 'LG 370W (407 CAD)': 0.193,\n",
       " 'LG 380W (418 CAD)': 0.206,\n",
       " 'LG 410W (451 CAD) ': 0.209,\n",
       " 'LG 445W (490 CAD)': 0.202,\n",
       " 'Peimar 385W (370 CAD)': 0.194,\n",
       " 'Peimar 400W (339 CAD)': 0.196,\n",
       " 'SunPower 100W (199 CAD) ': 0.23,\n",
       " 'SunPower 50W (135 CAD) ': 0.23,\n",
       " 'PERC Tech 450W (399 CAD) ': 0.202,\n",
       " 'PERC Tech 450W (275 CAD) ': 0.196}"
      ]
     },
     "execution_count": 7,
     "metadata": {},
     "output_type": "execute_result"
    }
   ],
   "source": [
    "conversion_rate"
   ]
  },
  {
   "cell_type": "code",
   "execution_count": 8,
   "metadata": {},
   "outputs": [],
   "source": [
    "conversion_df = pd.DataFrame(list(conversion_rate.items()), columns=['name', 'efficiency'])\n",
    "####"
   ]
  },
  {
   "cell_type": "code",
   "execution_count": 9,
   "metadata": {},
   "outputs": [],
   "source": [
    "panel_comparison = ['Canadian Solar 340W (309 CAD)', 'Canadian Solar 445W (389 CAD)']"
   ]
  },
  {
   "cell_type": "code",
   "execution_count": 10,
   "metadata": {},
   "outputs": [],
   "source": [
    "conversion_df['highlight'] = conversion_df['name'].isin(panel_comparison)\n",
    "####"
   ]
  },
  {
   "cell_type": "code",
   "execution_count": 11,
   "metadata": {},
   "outputs": [],
   "source": [
    "comparison_values = [conversion_rate[value] for value in panel_comparison]"
   ]
  },
  {
   "cell_type": "code",
   "execution_count": 12,
   "metadata": {},
   "outputs": [],
   "source": [
    "num_pan = 5"
   ]
  },
  {
   "cell_type": "code",
   "execution_count": 13,
   "metadata": {},
   "outputs": [],
   "source": [
    "comparison_savings = []\n",
    "for value in comparison_values:\n",
    "    comparison_savings.append(filtered_row['South-facing with vertical (90 degrees) tilt'].iloc[0] * value * 1.65 * 365 * num_pan * province_price)\n",
    "df = pd.DataFrame({comp: [saving] for comp, saving in zip(panel_comparison, comparison_savings)})\n",
    "df = df.T.reset_index().rename(columns={'index': 'Panel Comparison', 0: 'Savings'})"
   ]
  },
  {
   "cell_type": "code",
   "execution_count": 14,
   "metadata": {},
   "outputs": [
    {
     "data": {
      "text/plain": [
       "[169.98662835, 169.98662835]"
      ]
     },
     "execution_count": 14,
     "metadata": {},
     "output_type": "execute_result"
    }
   ],
   "source": [
    "comparison_savings"
   ]
  },
  {
   "cell_type": "code",
   "execution_count": 27,
   "metadata": {},
   "outputs": [
    {
     "data": {
      "text/html": [
       "\n",
       "<style>\n",
       "  #altair-viz-a0e068eec3154dc4b76e7a53ad49c5b1.vega-embed {\n",
       "    width: 100%;\n",
       "    display: flex;\n",
       "  }\n",
       "\n",
       "  #altair-viz-a0e068eec3154dc4b76e7a53ad49c5b1.vega-embed details,\n",
       "  #altair-viz-a0e068eec3154dc4b76e7a53ad49c5b1.vega-embed details summary {\n",
       "    position: relative;\n",
       "  }\n",
       "</style>\n",
       "<div id=\"altair-viz-a0e068eec3154dc4b76e7a53ad49c5b1\"></div>\n",
       "<script type=\"text/javascript\">\n",
       "  var VEGA_DEBUG = (typeof VEGA_DEBUG == \"undefined\") ? {} : VEGA_DEBUG;\n",
       "  (function(spec, embedOpt){\n",
       "    let outputDiv = document.currentScript.previousElementSibling;\n",
       "    if (outputDiv.id !== \"altair-viz-a0e068eec3154dc4b76e7a53ad49c5b1\") {\n",
       "      outputDiv = document.getElementById(\"altair-viz-a0e068eec3154dc4b76e7a53ad49c5b1\");\n",
       "    }\n",
       "    const paths = {\n",
       "      \"vega\": \"https://cdn.jsdelivr.net/npm/vega@5?noext\",\n",
       "      \"vega-lib\": \"https://cdn.jsdelivr.net/npm/vega-lib?noext\",\n",
       "      \"vega-lite\": \"https://cdn.jsdelivr.net/npm/vega-lite@5.17.0?noext\",\n",
       "      \"vega-embed\": \"https://cdn.jsdelivr.net/npm/vega-embed@6?noext\",\n",
       "    };\n",
       "\n",
       "    function maybeLoadScript(lib, version) {\n",
       "      var key = `${lib.replace(\"-\", \"\")}_version`;\n",
       "      return (VEGA_DEBUG[key] == version) ?\n",
       "        Promise.resolve(paths[lib]) :\n",
       "        new Promise(function(resolve, reject) {\n",
       "          var s = document.createElement('script');\n",
       "          document.getElementsByTagName(\"head\")[0].appendChild(s);\n",
       "          s.async = true;\n",
       "          s.onload = () => {\n",
       "            VEGA_DEBUG[key] = version;\n",
       "            return resolve(paths[lib]);\n",
       "          };\n",
       "          s.onerror = () => reject(`Error loading script: ${paths[lib]}`);\n",
       "          s.src = paths[lib];\n",
       "        });\n",
       "    }\n",
       "\n",
       "    function showError(err) {\n",
       "      outputDiv.innerHTML = `<div class=\"error\" style=\"color:red;\">${err}</div>`;\n",
       "      throw err;\n",
       "    }\n",
       "\n",
       "    function displayChart(vegaEmbed) {\n",
       "      vegaEmbed(outputDiv, spec, embedOpt)\n",
       "        .catch(err => showError(`Javascript Error: ${err.message}<br>This usually means there's a typo in your chart specification. See the javascript console for the full traceback.`));\n",
       "    }\n",
       "\n",
       "    if(typeof define === \"function\" && define.amd) {\n",
       "      requirejs.config({paths});\n",
       "      require([\"vega-embed\"], displayChart, err => showError(`Error loading script: ${err.message}`));\n",
       "    } else {\n",
       "      maybeLoadScript(\"vega\", \"5\")\n",
       "        .then(() => maybeLoadScript(\"vega-lite\", \"5.17.0\"))\n",
       "        .then(() => maybeLoadScript(\"vega-embed\", \"6\"))\n",
       "        .catch(showError)\n",
       "        .then(() => displayChart(vegaEmbed));\n",
       "    }\n",
       "  })({\"config\": {\"view\": {\"continuousWidth\": 300, \"continuousHeight\": 300}}, \"data\": {\"name\": \"data-c630336d71bea170ae5add1757132ad0\"}, \"mark\": {\"type\": \"bar\"}, \"encoding\": {\"color\": {\"field\": \"highlight\", \"legend\": null, \"scale\": {\"domain\": [true, false], \"range\": [\"gold\", \"steelblue\"]}, \"type\": \"nominal\"}, \"tooltip\": [{\"field\": \"name\", \"type\": \"nominal\"}, {\"field\": \"efficiency\", \"type\": \"quantitative\"}], \"x\": {\"field\": \"efficiency\", \"scale\": {\"domain\": [0, 0.25]}, \"title\": \"Efficiency\", \"type\": \"quantitative\"}, \"y\": {\"field\": \"name\", \"sort\": \"-x\", \"title\": \"Panel Name\", \"type\": \"nominal\"}}, \"params\": [{\"name\": \"param_13\", \"select\": {\"type\": \"interval\", \"encodings\": [\"x\", \"y\"]}, \"bind\": \"scales\"}], \"title\": \"Panel Efficiency Comparison\", \"$schema\": \"https://vega.github.io/schema/vega-lite/v5.17.0.json\", \"datasets\": {\"data-c630336d71bea170ae5add1757132ad0\": [{\"name\": \"Canadian Solar 340W (309 CAD)\", \"efficiency\": 0.189, \"highlight\": true}, {\"name\": \"Canadian Solar 445W (389 CAD)\", \"efficiency\": 0.189, \"highlight\": true}, {\"name\": \"Elios Voltaic 210W (299 CAD)\", \"efficiency\": 0.193, \"highlight\": false}, {\"name\": \"Elios Voltaic 210W (350 CAD)\", \"efficiency\": 0.193, \"highlight\": false}, {\"name\": \"Elois Voltaic 110W (139 CAD)\", \"efficiency\": 0.193, \"highlight\": false}, {\"name\": \"Elios Voltaic 200W (275 CAD)\", \"efficiency\": 0.229, \"highlight\": false}, {\"name\": \"Elios Voltaic 400W (225 CAD)\", \"efficiency\": 0.205, \"highlight\": false}, {\"name\": \"Elios Voltaic 550W (319 CAD)\", \"efficiency\": 0.213, \"highlight\": false}, {\"name\": \"Hanwha 400W (385 CAD)\", \"efficiency\": 0.196, \"highlight\": false}, {\"name\": \"Hanwha 470W (424 CAD)\", \"efficiency\": 0.203, \"highlight\": false}, {\"name\": \"LG 370W (407 CAD)\", \"efficiency\": 0.193, \"highlight\": false}, {\"name\": \"LG 380W (418 CAD)\", \"efficiency\": 0.206, \"highlight\": false}, {\"name\": \"LG 410W (451 CAD) \", \"efficiency\": 0.209, \"highlight\": false}, {\"name\": \"LG 445W (490 CAD)\", \"efficiency\": 0.202, \"highlight\": false}, {\"name\": \"Peimar 385W (370 CAD)\", \"efficiency\": 0.194, \"highlight\": false}, {\"name\": \"Peimar 400W (339 CAD)\", \"efficiency\": 0.196, \"highlight\": false}, {\"name\": \"SunPower 100W (199 CAD) \", \"efficiency\": 0.23, \"highlight\": false}, {\"name\": \"SunPower 50W (135 CAD) \", \"efficiency\": 0.23, \"highlight\": false}, {\"name\": \"PERC Tech 450W (399 CAD) \", \"efficiency\": 0.202, \"highlight\": false}, {\"name\": \"PERC Tech 450W (275 CAD) \", \"efficiency\": 0.196, \"highlight\": false}]}}, {\"mode\": \"vega-lite\"});\n",
       "</script>"
      ],
      "text/plain": [
       "alt.Chart(...)"
      ]
     },
     "execution_count": 27,
     "metadata": {},
     "output_type": "execute_result"
    }
   ],
   "source": [
    "alt.Chart(conversion_df).mark_bar().encode(\n",
    "    y=alt.Y('name:N', title='Panel Name', sort='-x'), \n",
    "    x=alt.X('efficiency:Q', title='Efficiency', scale=alt.Scale(domain=(0, 0.25))),  \n",
    "    color=alt.Color('highlight:N', scale=alt.Scale(domain=[True, False], range=['gold', 'steelblue']), legend=None),  \n",
    "    tooltip=['name', 'efficiency']  \n",
    ").properties(\n",
    "    title='Panel Efficiency Comparison'\n",
    ").interactive()\n"
   ]
  }
 ],
 "metadata": {
  "kernelspec": {
   "display_name": "solar-savers-dev",
   "language": "python",
   "name": "python3"
  },
  "language_info": {
   "codemirror_mode": {
    "name": "ipython",
    "version": 3
   },
   "file_extension": ".py",
   "mimetype": "text/x-python",
   "name": "python",
   "nbconvert_exporter": "python",
   "pygments_lexer": "ipython3",
   "version": "3.12.3"
  }
 },
 "nbformat": 4,
 "nbformat_minor": 2
}
