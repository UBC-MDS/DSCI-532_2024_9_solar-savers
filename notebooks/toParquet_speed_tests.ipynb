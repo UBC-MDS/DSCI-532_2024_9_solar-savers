{
 "cells": [
  {
   "cell_type": "code",
   "execution_count": 1,
   "metadata": {},
   "outputs": [],
   "source": [
    "import pandas as pd\n",
    "import os\n",
    "import geopandas as gpd\n",
    "import pyarrow as pa\n",
    "from shapely import wkb"
   ]
  },
  {
   "cell_type": "markdown",
   "metadata": {},
   "source": [
    "## Initial loading times"
   ]
  },
  {
   "cell_type": "markdown",
   "metadata": {},
   "source": [
    "### pricePerProvince.csv"
   ]
  },
  {
   "cell_type": "code",
   "execution_count": 2,
   "metadata": {},
   "outputs": [
    {
     "name": "stdout",
     "output_type": "stream",
     "text": [
      "1.46 ms ± 608 µs per loop (mean ± std. dev. of 3 runs, 2 loops each)\n"
     ]
    }
   ],
   "source": [
    "%%timeit -n 2 -r 3\n",
    "price_df = pd.read_csv(\"../data/raw/pricePerProvince.csv\", encoding='latin1').sort_values(by='price per ¢/kWh', ascending=False)"
   ]
  },
  {
   "cell_type": "code",
   "execution_count": 3,
   "metadata": {},
   "outputs": [],
   "source": [
    "price_df = pd.read_csv(\"../data/raw/pricePerProvince.csv\", encoding='latin1').sort_values(by='price per ¢/kWh', ascending=False)"
   ]
  },
  {
   "cell_type": "code",
   "execution_count": 4,
   "metadata": {},
   "outputs": [],
   "source": [
    "price_df.to_parquet('../data/processed/pricePerProvince.parquet')"
   ]
  },
  {
   "cell_type": "code",
   "execution_count": 5,
   "metadata": {},
   "outputs": [
    {
     "name": "stdout",
     "output_type": "stream",
     "text": [
      "The slowest run took 4.47 times longer than the fastest. This could mean that an intermediate result is being cached.\n",
      "4.96 ms ± 3.67 ms per loop (mean ± std. dev. of 3 runs, 2 loops each)\n"
     ]
    }
   ],
   "source": [
    "%%timeit -n 2 -r 3\n",
    "price_df = pd.read_parquet('../data/processed/pricePerProvince.parquet')"
   ]
  },
  {
   "cell_type": "markdown",
   "metadata": {},
   "source": [
    "#### csv is better"
   ]
  },
  {
   "cell_type": "markdown",
   "metadata": {},
   "source": [
    "### kWh_poly.json"
   ]
  },
  {
   "cell_type": "code",
   "execution_count": 6,
   "metadata": {},
   "outputs": [
    {
     "name": "stdout",
     "output_type": "stream",
     "text": [
      "473 ms ± 11.1 ms per loop (mean ± std. dev. of 3 runs, 2 loops each)\n"
     ]
    }
   ],
   "source": [
    "%%timeit -n 2 -r 3\n",
    "df1 = gpd.read_file('../data/processed/kWh_poly.json')\n",
    "alt_data = df1.to_crs(epsg=4326)  \n",
    "alt_data = alt_data.dropna(subset=['latitude', 'longitude'])"
   ]
  },
  {
   "cell_type": "code",
   "execution_count": 7,
   "metadata": {},
   "outputs": [],
   "source": [
    "df1 = gpd.read_file('../data/processed/kWh_poly.json')\n",
    "alt_data = df1.to_crs(epsg=4326)  \n",
    "alt_data = alt_data.dropna(subset=['latitude', 'longitude'])"
   ]
  },
  {
   "cell_type": "code",
   "execution_count": 8,
   "metadata": {},
   "outputs": [
    {
     "data": {
      "text/html": [
       "<div>\n",
       "<style scoped>\n",
       "    .dataframe tbody tr th:only-of-type {\n",
       "        vertical-align: middle;\n",
       "    }\n",
       "\n",
       "    .dataframe tbody tr th {\n",
       "        vertical-align: top;\n",
       "    }\n",
       "\n",
       "    .dataframe thead th {\n",
       "        text-align: right;\n",
       "    }\n",
       "</style>\n",
       "<table border=\"1\" class=\"dataframe\">\n",
       "  <thead>\n",
       "    <tr style=\"text-align: right;\">\n",
       "      <th></th>\n",
       "      <th>Province</th>\n",
       "      <th>Municipality</th>\n",
       "      <th>Month</th>\n",
       "      <th>South-facing with vertical (90 degrees) tilt</th>\n",
       "      <th>South-facing with latitude tilt</th>\n",
       "      <th>South-facing with tilt=latitude+15 degrees</th>\n",
       "      <th>South-facing with tilt=latitude-15 degrees</th>\n",
       "      <th>2-axis tracking</th>\n",
       "      <th>Horizontal (0 degree)</th>\n",
       "      <th>address</th>\n",
       "      <th>latitude</th>\n",
       "      <th>longitude</th>\n",
       "      <th>polygons</th>\n",
       "      <th>geometry</th>\n",
       "    </tr>\n",
       "  </thead>\n",
       "  <tbody>\n",
       "    <tr>\n",
       "      <th>0</th>\n",
       "      <td>Alberta</td>\n",
       "      <td>Acadia Valley</td>\n",
       "      <td>Annual</td>\n",
       "      <td>3.85</td>\n",
       "      <td>4.95</td>\n",
       "      <td>4.71</td>\n",
       "      <td>4.94</td>\n",
       "      <td>7.09</td>\n",
       "      <td>3.73</td>\n",
       "      <td>Acadia Valley, Alberta</td>\n",
       "      <td>51.158676</td>\n",
       "      <td>-110.210332</td>\n",
       "      <td>POLYGON ((-110.2141432 51.1587175, -110.211333...</td>\n",
       "      <td>POINT (-110.21033 51.15868)</td>\n",
       "    </tr>\n",
       "  </tbody>\n",
       "</table>\n",
       "</div>"
      ],
      "text/plain": [
       "  Province   Municipality   Month  \\\n",
       "0  Alberta  Acadia Valley  Annual   \n",
       "\n",
       "   South-facing with vertical (90 degrees) tilt  \\\n",
       "0                                          3.85   \n",
       "\n",
       "   South-facing with latitude tilt  \\\n",
       "0                             4.95   \n",
       "\n",
       "   South-facing with tilt=latitude+15 degrees  \\\n",
       "0                                        4.71   \n",
       "\n",
       "   South-facing with tilt=latitude-15 degrees  2-axis tracking  \\\n",
       "0                                        4.94             7.09   \n",
       "\n",
       "   Horizontal (0 degree)                 address   latitude   longitude  \\\n",
       "0                   3.73  Acadia Valley, Alberta  51.158676 -110.210332   \n",
       "\n",
       "                                            polygons  \\\n",
       "0  POLYGON ((-110.2141432 51.1587175, -110.211333...   \n",
       "\n",
       "                      geometry  \n",
       "0  POINT (-110.21033 51.15868)  "
      ]
     },
     "execution_count": 8,
     "metadata": {},
     "output_type": "execute_result"
    }
   ],
   "source": [
    "alt_data.head(1)"
   ]
  },
  {
   "cell_type": "code",
   "execution_count": 9,
   "metadata": {},
   "outputs": [],
   "source": [
    "alt_data.to_parquet('../data/processed/kWh_poly.parquet')"
   ]
  },
  {
   "cell_type": "code",
   "execution_count": 10,
   "metadata": {},
   "outputs": [
    {
     "name": "stdout",
     "output_type": "stream",
     "text": [
      "28.1 ms ± 3.42 ms per loop (mean ± std. dev. of 3 runs, 2 loops each)\n"
     ]
    }
   ],
   "source": [
    "%%timeit -n 2 -r 3\n",
    "alt1_data = pd.read_parquet('../data/processed/kWh_poly.parquet')\n",
    "alt1_data['geometry'] = alt1_data['geometry'].apply(wkb.loads)\n",
    "alt1_data = gpd.GeoDataFrame(alt1_data)"
   ]
  },
  {
   "cell_type": "code",
   "execution_count": 11,
   "metadata": {},
   "outputs": [
    {
     "data": {
      "text/html": [
       "<div>\n",
       "<style scoped>\n",
       "    .dataframe tbody tr th:only-of-type {\n",
       "        vertical-align: middle;\n",
       "    }\n",
       "\n",
       "    .dataframe tbody tr th {\n",
       "        vertical-align: top;\n",
       "    }\n",
       "\n",
       "    .dataframe thead th {\n",
       "        text-align: right;\n",
       "    }\n",
       "</style>\n",
       "<table border=\"1\" class=\"dataframe\">\n",
       "  <thead>\n",
       "    <tr style=\"text-align: right;\">\n",
       "      <th></th>\n",
       "      <th>Province</th>\n",
       "      <th>Municipality</th>\n",
       "      <th>Month</th>\n",
       "      <th>South-facing with vertical (90 degrees) tilt</th>\n",
       "      <th>South-facing with latitude tilt</th>\n",
       "      <th>South-facing with tilt=latitude+15 degrees</th>\n",
       "      <th>South-facing with tilt=latitude-15 degrees</th>\n",
       "      <th>2-axis tracking</th>\n",
       "      <th>Horizontal (0 degree)</th>\n",
       "      <th>address</th>\n",
       "      <th>latitude</th>\n",
       "      <th>longitude</th>\n",
       "      <th>polygons</th>\n",
       "      <th>geometry</th>\n",
       "    </tr>\n",
       "  </thead>\n",
       "  <tbody>\n",
       "    <tr>\n",
       "      <th>0</th>\n",
       "      <td>Alberta</td>\n",
       "      <td>Acadia Valley</td>\n",
       "      <td>Annual</td>\n",
       "      <td>3.85</td>\n",
       "      <td>4.95</td>\n",
       "      <td>4.71</td>\n",
       "      <td>4.94</td>\n",
       "      <td>7.09</td>\n",
       "      <td>3.73</td>\n",
       "      <td>Acadia Valley, Alberta</td>\n",
       "      <td>51.158676</td>\n",
       "      <td>-110.210332</td>\n",
       "      <td>POLYGON ((-110.2141432 51.1587175, -110.211333...</td>\n",
       "      <td>POINT (-110.21033 51.15868)</td>\n",
       "    </tr>\n",
       "  </tbody>\n",
       "</table>\n",
       "</div>"
      ],
      "text/plain": [
       "  Province   Municipality   Month  \\\n",
       "0  Alberta  Acadia Valley  Annual   \n",
       "\n",
       "   South-facing with vertical (90 degrees) tilt  \\\n",
       "0                                          3.85   \n",
       "\n",
       "   South-facing with latitude tilt  \\\n",
       "0                             4.95   \n",
       "\n",
       "   South-facing with tilt=latitude+15 degrees  \\\n",
       "0                                        4.71   \n",
       "\n",
       "   South-facing with tilt=latitude-15 degrees  2-axis tracking  \\\n",
       "0                                        4.94             7.09   \n",
       "\n",
       "   Horizontal (0 degree)                 address   latitude   longitude  \\\n",
       "0                   3.73  Acadia Valley, Alberta  51.158676 -110.210332   \n",
       "\n",
       "                                            polygons  \\\n",
       "0  POLYGON ((-110.2141432 51.1587175, -110.211333...   \n",
       "\n",
       "                      geometry  \n",
       "0  POINT (-110.21033 51.15868)  "
      ]
     },
     "execution_count": 11,
     "metadata": {},
     "output_type": "execute_result"
    }
   ],
   "source": [
    "alt1_data = pd.read_parquet('../data/processed/kWh_poly.parquet')\n",
    "alt1_data['geometry'] = alt1_data['geometry'].apply(wkb.loads)\n",
    "alt1_data = gpd.GeoDataFrame(alt1_data)\n",
    "alt1_data.head(1)"
   ]
  },
  {
   "cell_type": "markdown",
   "metadata": {},
   "source": [
    "#### parquet is better"
   ]
  },
  {
   "cell_type": "markdown",
   "metadata": {},
   "source": [
    "### ne_50m_admin_1_states_provinces.shp"
   ]
  },
  {
   "cell_type": "code",
   "execution_count": 12,
   "metadata": {},
   "outputs": [
    {
     "name": "stderr",
     "output_type": "stream",
     "text": [
      "c:\\Users\\Marcony1\\miniconda3\\envs\\solar-savers-dev\\Lib\\site-packages\\geopandas\\geodataframe.py:1525: SettingWithCopyWarning: \n",
      "A value is trying to be set on a copy of a slice from a DataFrame.\n",
      "Try using .loc[row_indexer,col_indexer] = value instead\n",
      "\n",
      "See the caveats in the documentation: https://pandas.pydata.org/pandas-docs/stable/user_guide/indexing.html#returning-a-view-versus-a-copy\n",
      "  super().__setitem__(key, value)\n",
      "c:\\Users\\Marcony1\\miniconda3\\envs\\solar-savers-dev\\Lib\\site-packages\\geopandas\\geodataframe.py:1525: SettingWithCopyWarning: \n",
      "A value is trying to be set on a copy of a slice from a DataFrame.\n",
      "Try using .loc[row_indexer,col_indexer] = value instead\n",
      "\n",
      "See the caveats in the documentation: https://pandas.pydata.org/pandas-docs/stable/user_guide/indexing.html#returning-a-view-versus-a-copy\n",
      "  super().__setitem__(key, value)\n",
      "c:\\Users\\Marcony1\\miniconda3\\envs\\solar-savers-dev\\Lib\\site-packages\\geopandas\\geodataframe.py:1525: SettingWithCopyWarning: \n",
      "A value is trying to be set on a copy of a slice from a DataFrame.\n",
      "Try using .loc[row_indexer,col_indexer] = value instead\n",
      "\n",
      "See the caveats in the documentation: https://pandas.pydata.org/pandas-docs/stable/user_guide/indexing.html#returning-a-view-versus-a-copy\n",
      "  super().__setitem__(key, value)\n",
      "c:\\Users\\Marcony1\\miniconda3\\envs\\solar-savers-dev\\Lib\\site-packages\\geopandas\\geodataframe.py:1525: SettingWithCopyWarning: \n",
      "A value is trying to be set on a copy of a slice from a DataFrame.\n",
      "Try using .loc[row_indexer,col_indexer] = value instead\n",
      "\n",
      "See the caveats in the documentation: https://pandas.pydata.org/pandas-docs/stable/user_guide/indexing.html#returning-a-view-versus-a-copy\n",
      "  super().__setitem__(key, value)\n",
      "c:\\Users\\Marcony1\\miniconda3\\envs\\solar-savers-dev\\Lib\\site-packages\\geopandas\\geodataframe.py:1525: SettingWithCopyWarning: \n",
      "A value is trying to be set on a copy of a slice from a DataFrame.\n",
      "Try using .loc[row_indexer,col_indexer] = value instead\n",
      "\n",
      "See the caveats in the documentation: https://pandas.pydata.org/pandas-docs/stable/user_guide/indexing.html#returning-a-view-versus-a-copy\n",
      "  super().__setitem__(key, value)\n"
     ]
    },
    {
     "name": "stdout",
     "output_type": "stream",
     "text": [
      "939 ms ± 67.3 ms per loop (mean ± std. dev. of 3 runs, 2 loops each)\n"
     ]
    },
    {
     "name": "stderr",
     "output_type": "stream",
     "text": [
      "c:\\Users\\Marcony1\\miniconda3\\envs\\solar-savers-dev\\Lib\\site-packages\\geopandas\\geodataframe.py:1525: SettingWithCopyWarning: \n",
      "A value is trying to be set on a copy of a slice from a DataFrame.\n",
      "Try using .loc[row_indexer,col_indexer] = value instead\n",
      "\n",
      "See the caveats in the documentation: https://pandas.pydata.org/pandas-docs/stable/user_guide/indexing.html#returning-a-view-versus-a-copy\n",
      "  super().__setitem__(key, value)\n"
     ]
    }
   ],
   "source": [
    "%%timeit -n 2 -r 3\n",
    "gdf1 = gpd.read_file('../data/raw/ne_50m_admin_1_states_provinces/ne_50m_admin_1_states_provinces.shp')\n",
    "gdf_ca = gdf1[gdf1['iso_a2'] == 'CA']\n",
    "mapping = {\n",
    "    'Yukon': 'Yukon Territory',\n",
    "    'Québec': 'Quebec'\n",
    "}\n",
    "gdf_ca['name'] = gdf_ca['name'].replace(mapping)"
   ]
  },
  {
   "cell_type": "code",
   "execution_count": 13,
   "metadata": {},
   "outputs": [
    {
     "name": "stderr",
     "output_type": "stream",
     "text": [
      "c:\\Users\\Marcony1\\miniconda3\\envs\\solar-savers-dev\\Lib\\site-packages\\geopandas\\geodataframe.py:1525: SettingWithCopyWarning: \n",
      "A value is trying to be set on a copy of a slice from a DataFrame.\n",
      "Try using .loc[row_indexer,col_indexer] = value instead\n",
      "\n",
      "See the caveats in the documentation: https://pandas.pydata.org/pandas-docs/stable/user_guide/indexing.html#returning-a-view-versus-a-copy\n",
      "  super().__setitem__(key, value)\n"
     ]
    }
   ],
   "source": [
    "gdf1 = gpd.read_file('../data/raw/ne_50m_admin_1_states_provinces/ne_50m_admin_1_states_provinces.shp')\n",
    "gdf_ca = gdf1[gdf1['iso_a2'] == 'CA']\n",
    "mapping = {\n",
    "    'Yukon': 'Yukon Territory',\n",
    "    'Québec': 'Quebec'\n",
    "}\n",
    "gdf_ca['name'] = gdf_ca['name'].replace(mapping)"
   ]
  },
  {
   "cell_type": "code",
   "execution_count": 14,
   "metadata": {},
   "outputs": [],
   "source": [
    "gdf_ca.to_parquet('../data/processed/ne_50m_admin_1_states_provinces.parquet')"
   ]
  },
  {
   "cell_type": "code",
   "execution_count": 15,
   "metadata": {},
   "outputs": [
    {
     "name": "stdout",
     "output_type": "stream",
     "text": [
      "13.8 ms ± 1.34 ms per loop (mean ± std. dev. of 3 runs, 2 loops each)\n"
     ]
    }
   ],
   "source": [
    "%%timeit -n 2 -r 3\n",
    "gdf_ca = gpd.read_parquet('../data/processed/ne_50m_admin_1_states_provinces.parquet')"
   ]
  },
  {
   "cell_type": "markdown",
   "metadata": {},
   "source": [
    "#### parquet is better"
   ]
  },
  {
   "cell_type": "markdown",
   "metadata": {},
   "source": [
    "### panels.csv"
   ]
  },
  {
   "cell_type": "code",
   "execution_count": 16,
   "metadata": {},
   "outputs": [
    {
     "name": "stdout",
     "output_type": "stream",
     "text": [
      "1.2 ms ± 485 µs per loop (mean ± std. dev. of 3 runs, 2 loops each)\n"
     ]
    }
   ],
   "source": [
    "%%timeit -n 2 -r 3\n",
    "panel_df = pd.read_csv('../data/raw/panels.csv')"
   ]
  },
  {
   "cell_type": "code",
   "execution_count": 17,
   "metadata": {},
   "outputs": [],
   "source": [
    "panel_df = pd.read_csv('../data/raw/panels.csv')"
   ]
  },
  {
   "cell_type": "code",
   "execution_count": 18,
   "metadata": {},
   "outputs": [],
   "source": [
    "panel_df.to_parquet('../data/processed/panels.parquet')"
   ]
  },
  {
   "cell_type": "code",
   "execution_count": 19,
   "metadata": {},
   "outputs": [
    {
     "name": "stdout",
     "output_type": "stream",
     "text": [
      "3.48 ms ± 1.69 ms per loop (mean ± std. dev. of 3 runs, 2 loops each)\n"
     ]
    }
   ],
   "source": [
    "%%timeit -n 2 -r 3\n",
    "panel_df = pd.read_parquet('../data/processed/panels.parquet')"
   ]
  },
  {
   "cell_type": "markdown",
   "metadata": {},
   "source": [
    "#### csv is better"
   ]
  }
 ],
 "metadata": {
  "kernelspec": {
   "display_name": "solar-savers-dev",
   "language": "python",
   "name": "python3"
  },
  "language_info": {
   "codemirror_mode": {
    "name": "ipython",
    "version": 3
   },
   "file_extension": ".py",
   "mimetype": "text/x-python",
   "name": "python",
   "nbconvert_exporter": "python",
   "pygments_lexer": "ipython3",
   "version": "3.12.3"
  }
 },
 "nbformat": 4,
 "nbformat_minor": 2
}
