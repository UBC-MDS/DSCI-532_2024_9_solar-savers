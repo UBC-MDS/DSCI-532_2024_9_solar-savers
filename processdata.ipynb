{
 "cells": [
  {
   "cell_type": "code",
   "execution_count": null,
   "metadata": {},
   "outputs": [],
   "source": [
    "from geopy.geocoders import Nominatim\n",
    "import geopy\n",
    "import pandas as pd\n",
    "import geopandas as gpd\n",
    "from geopy.extra.rate_limiter import RateLimiter\n",
    "import time"
   ]
  },
  {
   "cell_type": "code",
   "execution_count": null,
   "metadata": {},
   "outputs": [],
   "source": [
    "df = pd.read_csv(\"data/processed/processed_municip_kWh.csv\", encoding=\"utf-8\")\n",
    "# df.head() "
   ]
  },
  {
   "cell_type": "code",
   "execution_count": null,
   "metadata": {},
   "outputs": [],
   "source": [
    "df_annual = df[df['Month'].str.contains(\"Annual\", na=False)]\n",
    "df_annual['address'] = df_annual['Municipality'] + ', ' + df_annual['Province']\n",
    "# df_annual.head() "
   ]
  },
  {
   "cell_type": "code",
   "execution_count": null,
   "metadata": {},
   "outputs": [],
   "source": [
    "address = df_annual.iloc[0][\"address\"]\n",
    "address"
   ]
  },
  {
   "cell_type": "code",
   "execution_count": null,
   "metadata": {},
   "outputs": [],
   "source": [
    "# try running this block first to see if can create latitude and longtitude of one single location \n",
    "loc = Nominatim(user_agent=\"Geopy Library\")\n",
    "getLoc = loc.geocode(address)\n",
    "\n",
    "print(getLoc.address)\n",
    "print(\"Latitude = \", getLoc.latitude, \"\\n\")\n",
    "print(\"Longitude = \", getLoc.longitude)"
   ]
  },
  {
   "cell_type": "code",
   "execution_count": null,
   "metadata": {},
   "outputs": [],
   "source": [
    "# then run this \n",
    "\n",
    "if 'latitude' not in df_annual.columns:\n",
    "    df_annual['latitude'] = pd.NA\n",
    "if 'longitude' not in df_annual.columns:\n",
    "    df_annual['longitude'] = pd.NA\n",
    "\n",
    "# Set up the geolocator with rate limiting\n",
    "geolocator = geopy.Nominatim(user_agent=\"myGeocoder\")\n",
    "rate_limiter = RateLimiter(geolocator.geocode, min_delay_seconds=1)  # adjust min_delay_seconds as needed\n",
    "\n",
    "for index, row in df_annual.iterrows():\n",
    "    if pd.isna(row['latitude']) or pd.isna(row['longitude']):  # Check if geocoding is needed\n",
    "        try:\n",
    "            location = rate_limiter(row['address'])\n",
    "            if location:\n",
    "                df_annual.at[index, 'latitude'] = location.latitude\n",
    "                df_annual.at[index, 'longitude'] = location.longitude\n",
    "        except geopy.exc.GeocoderServiceError as e:\n",
    "            print(f\"Error geocoding {row['address']}: {e}\")\n",
    "\n",
    "print(df_annual.head())  # Show the first few rows to check"
   ]
  }
 ],
 "metadata": {
  "kernelspec": {
   "display_name": "mds574",
   "language": "python",
   "name": "python3"
  },
  "language_info": {
   "codemirror_mode": {
    "name": "ipython",
    "version": 3
   },
   "file_extension": ".py",
   "mimetype": "text/x-python",
   "name": "python",
   "nbconvert_exporter": "python",
   "pygments_lexer": "ipython3",
   "version": "3.11.7"
  }
 },
 "nbformat": 4,
 "nbformat_minor": 2
}
