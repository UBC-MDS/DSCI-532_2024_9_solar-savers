{
 "cells": [
  {
   "cell_type": "code",
   "execution_count": 3,
   "metadata": {},
   "outputs": [
    {
     "name": "stdout",
     "output_type": "stream",
     "text": [
      "Requirement already satisfied: geopy in c:\\users\\fohy2\\miniconda3\\envs\\solar-saver\\lib\\site-packages (2.4.1)\n",
      "Requirement already satisfied: geopandas in c:\\users\\fohy2\\miniconda3\\envs\\solar-saver\\lib\\site-packages (0.14.3)\n",
      "Requirement already satisfied: geographiclib<3,>=1.52 in c:\\users\\fohy2\\miniconda3\\envs\\solar-saver\\lib\\site-packages (from geopy) (2.0)\n",
      "Requirement already satisfied: fiona>=1.8.21 in c:\\users\\fohy2\\miniconda3\\envs\\solar-saver\\lib\\site-packages (from geopandas) (1.9.6)\n",
      "Requirement already satisfied: packaging in c:\\users\\fohy2\\miniconda3\\envs\\solar-saver\\lib\\site-packages (from geopandas) (24.0)\n",
      "Requirement already satisfied: pandas>=1.4.0 in c:\\users\\fohy2\\miniconda3\\envs\\solar-saver\\lib\\site-packages (from geopandas) (2.2.1)\n",
      "Requirement already satisfied: pyproj>=3.3.0 in c:\\users\\fohy2\\miniconda3\\envs\\solar-saver\\lib\\site-packages (from geopandas) (3.6.1)\n",
      "Requirement already satisfied: shapely>=1.8.0 in c:\\users\\fohy2\\miniconda3\\envs\\solar-saver\\lib\\site-packages (from geopandas) (2.0.3)\n",
      "Requirement already satisfied: attrs>=19.2.0 in c:\\users\\fohy2\\miniconda3\\envs\\solar-saver\\lib\\site-packages (from fiona>=1.8.21->geopandas) (23.2.0)\n",
      "Requirement already satisfied: certifi in c:\\users\\fohy2\\miniconda3\\envs\\solar-saver\\lib\\site-packages (from fiona>=1.8.21->geopandas) (2024.2.2)\n",
      "Requirement already satisfied: click~=8.0 in c:\\users\\fohy2\\miniconda3\\envs\\solar-saver\\lib\\site-packages (from fiona>=1.8.21->geopandas) (8.1.7)\n",
      "Requirement already satisfied: click-plugins>=1.0 in c:\\users\\fohy2\\miniconda3\\envs\\solar-saver\\lib\\site-packages (from fiona>=1.8.21->geopandas) (1.1.1)\n",
      "Requirement already satisfied: cligj>=0.5 in c:\\users\\fohy2\\miniconda3\\envs\\solar-saver\\lib\\site-packages (from fiona>=1.8.21->geopandas) (0.7.2)\n",
      "Requirement already satisfied: six in c:\\users\\fohy2\\miniconda3\\envs\\solar-saver\\lib\\site-packages (from fiona>=1.8.21->geopandas) (1.16.0)\n",
      "Requirement already satisfied: numpy<2,>=1.26.0 in c:\\users\\fohy2\\miniconda3\\envs\\solar-saver\\lib\\site-packages (from pandas>=1.4.0->geopandas) (1.26.4)\n",
      "Requirement already satisfied: python-dateutil>=2.8.2 in c:\\users\\fohy2\\miniconda3\\envs\\solar-saver\\lib\\site-packages (from pandas>=1.4.0->geopandas) (2.9.0)\n",
      "Requirement already satisfied: pytz>=2020.1 in c:\\users\\fohy2\\miniconda3\\envs\\solar-saver\\lib\\site-packages (from pandas>=1.4.0->geopandas) (2024.1)\n",
      "Requirement already satisfied: tzdata>=2022.7 in c:\\users\\fohy2\\miniconda3\\envs\\solar-saver\\lib\\site-packages (from pandas>=1.4.0->geopandas) (2024.1)\n",
      "Requirement already satisfied: colorama in c:\\users\\fohy2\\miniconda3\\envs\\solar-saver\\lib\\site-packages (from click~=8.0->fiona>=1.8.21->geopandas) (0.4.6)\n"
     ]
    }
   ],
   "source": [
    "!pip install geopy geopandas"
   ]
  },
  {
   "cell_type": "code",
   "execution_count": 4,
   "metadata": {},
   "outputs": [],
   "source": [
    "from geopy.geocoders import Nominatim\n",
    "import geopy\n",
    "import pandas as pd\n",
    "import geopandas as gpd\n",
    "from geopy.extra.rate_limiter import RateLimiter\n",
    "import time"
   ]
  },
  {
   "cell_type": "code",
   "execution_count": 5,
   "metadata": {},
   "outputs": [
    {
     "data": {
      "text/html": [
       "<div>\n",
       "<style scoped>\n",
       "    .dataframe tbody tr th:only-of-type {\n",
       "        vertical-align: middle;\n",
       "    }\n",
       "\n",
       "    .dataframe tbody tr th {\n",
       "        vertical-align: top;\n",
       "    }\n",
       "\n",
       "    .dataframe thead th {\n",
       "        text-align: right;\n",
       "    }\n",
       "</style>\n",
       "<table border=\"1\" class=\"dataframe\">\n",
       "  <thead>\n",
       "    <tr style=\"text-align: right;\">\n",
       "      <th></th>\n",
       "      <th>Province</th>\n",
       "      <th>Municipality</th>\n",
       "      <th>Month</th>\n",
       "      <th>South-facing with vertical (90 degrees) tilt</th>\n",
       "      <th>South-facing with latitude tilt</th>\n",
       "      <th>South-facing with tilt=latitude+15 degrees</th>\n",
       "      <th>South-facing with tilt=latitude-15 degrees</th>\n",
       "      <th>2-axis tracking</th>\n",
       "      <th>Horizontal (0 degree)</th>\n",
       "    </tr>\n",
       "  </thead>\n",
       "  <tbody>\n",
       "    <tr>\n",
       "      <th>0</th>\n",
       "      <td>Alberta</td>\n",
       "      <td>Acadia Valley</td>\n",
       "      <td>January</td>\n",
       "      <td>3.78</td>\n",
       "      <td>3.57</td>\n",
       "      <td>3.83</td>\n",
       "      <td>3.11</td>\n",
       "      <td>4.31</td>\n",
       "      <td>1.23</td>\n",
       "    </tr>\n",
       "    <tr>\n",
       "      <th>1</th>\n",
       "      <td>Alberta</td>\n",
       "      <td>Acadia Valley</td>\n",
       "      <td>February</td>\n",
       "      <td>4.69</td>\n",
       "      <td>4.78</td>\n",
       "      <td>4.96</td>\n",
       "      <td>4.35</td>\n",
       "      <td>5.87</td>\n",
       "      <td>2.23</td>\n",
       "    </tr>\n",
       "    <tr>\n",
       "      <th>2</th>\n",
       "      <td>Alberta</td>\n",
       "      <td>Acadia Valley</td>\n",
       "      <td>March</td>\n",
       "      <td>4.79</td>\n",
       "      <td>5.58</td>\n",
       "      <td>5.49</td>\n",
       "      <td>5.37</td>\n",
       "      <td>7.20</td>\n",
       "      <td>3.63</td>\n",
       "    </tr>\n",
       "    <tr>\n",
       "      <th>3</th>\n",
       "      <td>Alberta</td>\n",
       "      <td>Acadia Valley</td>\n",
       "      <td>April</td>\n",
       "      <td>4.09</td>\n",
       "      <td>5.80</td>\n",
       "      <td>5.34</td>\n",
       "      <td>5.96</td>\n",
       "      <td>8.43</td>\n",
       "      <td>4.96</td>\n",
       "    </tr>\n",
       "    <tr>\n",
       "      <th>4</th>\n",
       "      <td>Alberta</td>\n",
       "      <td>Acadia Valley</td>\n",
       "      <td>May</td>\n",
       "      <td>3.37</td>\n",
       "      <td>5.59</td>\n",
       "      <td>4.88</td>\n",
       "      <td>6.06</td>\n",
       "      <td>9.06</td>\n",
       "      <td>5.84</td>\n",
       "    </tr>\n",
       "  </tbody>\n",
       "</table>\n",
       "</div>"
      ],
      "text/plain": [
       "  Province   Municipality     Month  \\\n",
       "0  Alberta  Acadia Valley   January   \n",
       "1  Alberta  Acadia Valley  February   \n",
       "2  Alberta  Acadia Valley     March   \n",
       "3  Alberta  Acadia Valley     April   \n",
       "4  Alberta  Acadia Valley       May   \n",
       "\n",
       "   South-facing with vertical (90 degrees) tilt  \\\n",
       "0                                          3.78   \n",
       "1                                          4.69   \n",
       "2                                          4.79   \n",
       "3                                          4.09   \n",
       "4                                          3.37   \n",
       "\n",
       "   South-facing with latitude tilt  \\\n",
       "0                             3.57   \n",
       "1                             4.78   \n",
       "2                             5.58   \n",
       "3                             5.80   \n",
       "4                             5.59   \n",
       "\n",
       "   South-facing with tilt=latitude+15 degrees  \\\n",
       "0                                        3.83   \n",
       "1                                        4.96   \n",
       "2                                        5.49   \n",
       "3                                        5.34   \n",
       "4                                        4.88   \n",
       "\n",
       "   South-facing with tilt=latitude-15 degrees  2-axis tracking  \\\n",
       "0                                        3.11             4.31   \n",
       "1                                        4.35             5.87   \n",
       "2                                        5.37             7.20   \n",
       "3                                        5.96             8.43   \n",
       "4                                        6.06             9.06   \n",
       "\n",
       "   Horizontal (0 degree)  \n",
       "0                   1.23  \n",
       "1                   2.23  \n",
       "2                   3.63  \n",
       "3                   4.96  \n",
       "4                   5.84  "
      ]
     },
     "execution_count": 5,
     "metadata": {},
     "output_type": "execute_result"
    }
   ],
   "source": [
    "df = pd.read_csv(\"data/processed/processed_municip_kWh.csv\", encoding=\"utf-8\", index_col=0)\n",
    "df.head() "
   ]
  },
  {
   "cell_type": "code",
   "execution_count": 6,
   "metadata": {},
   "outputs": [
    {
     "data": {
      "text/html": [
       "<div>\n",
       "<style scoped>\n",
       "    .dataframe tbody tr th:only-of-type {\n",
       "        vertical-align: middle;\n",
       "    }\n",
       "\n",
       "    .dataframe tbody tr th {\n",
       "        vertical-align: top;\n",
       "    }\n",
       "\n",
       "    .dataframe thead th {\n",
       "        text-align: right;\n",
       "    }\n",
       "</style>\n",
       "<table border=\"1\" class=\"dataframe\">\n",
       "  <thead>\n",
       "    <tr style=\"text-align: right;\">\n",
       "      <th></th>\n",
       "      <th>Province</th>\n",
       "      <th>Municipality</th>\n",
       "      <th>Month</th>\n",
       "      <th>South-facing with vertical (90 degrees) tilt</th>\n",
       "      <th>South-facing with latitude tilt</th>\n",
       "      <th>South-facing with tilt=latitude+15 degrees</th>\n",
       "      <th>South-facing with tilt=latitude-15 degrees</th>\n",
       "      <th>2-axis tracking</th>\n",
       "      <th>Horizontal (0 degree)</th>\n",
       "      <th>address</th>\n",
       "    </tr>\n",
       "  </thead>\n",
       "  <tbody>\n",
       "    <tr>\n",
       "      <th>0</th>\n",
       "      <td>Alberta</td>\n",
       "      <td>Acadia Valley</td>\n",
       "      <td>Annual</td>\n",
       "      <td>3.85</td>\n",
       "      <td>4.95</td>\n",
       "      <td>4.71</td>\n",
       "      <td>4.94</td>\n",
       "      <td>7.09</td>\n",
       "      <td>3.73</td>\n",
       "      <td>Acadia Valley, Alberta</td>\n",
       "    </tr>\n",
       "    <tr>\n",
       "      <th>1</th>\n",
       "      <td>Alberta</td>\n",
       "      <td>Acme</td>\n",
       "      <td>Annual</td>\n",
       "      <td>3.72</td>\n",
       "      <td>4.76</td>\n",
       "      <td>4.53</td>\n",
       "      <td>4.76</td>\n",
       "      <td>6.77</td>\n",
       "      <td>3.62</td>\n",
       "      <td>Acme, Alberta</td>\n",
       "    </tr>\n",
       "    <tr>\n",
       "      <th>2</th>\n",
       "      <td>Alberta</td>\n",
       "      <td>Airdrie</td>\n",
       "      <td>Annual</td>\n",
       "      <td>3.66</td>\n",
       "      <td>4.70</td>\n",
       "      <td>4.47</td>\n",
       "      <td>4.70</td>\n",
       "      <td>6.67</td>\n",
       "      <td>3.61</td>\n",
       "      <td>Airdrie, Alberta</td>\n",
       "    </tr>\n",
       "    <tr>\n",
       "      <th>3</th>\n",
       "      <td>Alberta</td>\n",
       "      <td>Alberta Beach</td>\n",
       "      <td>Annual</td>\n",
       "      <td>3.52</td>\n",
       "      <td>4.44</td>\n",
       "      <td>4.21</td>\n",
       "      <td>4.46</td>\n",
       "      <td>6.35</td>\n",
       "      <td>3.42</td>\n",
       "      <td>Alberta Beach, Alberta</td>\n",
       "    </tr>\n",
       "    <tr>\n",
       "      <th>4</th>\n",
       "      <td>Alberta</td>\n",
       "      <td>Alder Flats</td>\n",
       "      <td>Annual</td>\n",
       "      <td>3.47</td>\n",
       "      <td>4.41</td>\n",
       "      <td>4.18</td>\n",
       "      <td>4.42</td>\n",
       "      <td>6.28</td>\n",
       "      <td>3.44</td>\n",
       "      <td>Alder Flats, Alberta</td>\n",
       "    </tr>\n",
       "  </tbody>\n",
       "</table>\n",
       "</div>"
      ],
      "text/plain": [
       "  Province   Municipality   Month  \\\n",
       "0  Alberta  Acadia Valley  Annual   \n",
       "1  Alberta           Acme  Annual   \n",
       "2  Alberta        Airdrie  Annual   \n",
       "3  Alberta  Alberta Beach  Annual   \n",
       "4  Alberta    Alder Flats  Annual   \n",
       "\n",
       "   South-facing with vertical (90 degrees) tilt  \\\n",
       "0                                          3.85   \n",
       "1                                          3.72   \n",
       "2                                          3.66   \n",
       "3                                          3.52   \n",
       "4                                          3.47   \n",
       "\n",
       "   South-facing with latitude tilt  \\\n",
       "0                             4.95   \n",
       "1                             4.76   \n",
       "2                             4.70   \n",
       "3                             4.44   \n",
       "4                             4.41   \n",
       "\n",
       "   South-facing with tilt=latitude+15 degrees  \\\n",
       "0                                        4.71   \n",
       "1                                        4.53   \n",
       "2                                        4.47   \n",
       "3                                        4.21   \n",
       "4                                        4.18   \n",
       "\n",
       "   South-facing with tilt=latitude-15 degrees  2-axis tracking  \\\n",
       "0                                        4.94             7.09   \n",
       "1                                        4.76             6.77   \n",
       "2                                        4.70             6.67   \n",
       "3                                        4.46             6.35   \n",
       "4                                        4.42             6.28   \n",
       "\n",
       "   Horizontal (0 degree)                 address  \n",
       "0                   3.73  Acadia Valley, Alberta  \n",
       "1                   3.62           Acme, Alberta  \n",
       "2                   3.61        Airdrie, Alberta  \n",
       "3                   3.42  Alberta Beach, Alberta  \n",
       "4                   3.44    Alder Flats, Alberta  "
      ]
     },
     "execution_count": 6,
     "metadata": {},
     "output_type": "execute_result"
    }
   ],
   "source": [
    "df_annual = df[df['Month'].str.contains(\"Annual\", na=False)].copy()\n",
    "df_annual.loc[:, 'address'] = df_annual.loc[:, 'Municipality'] + ', ' + df_annual.loc[:, 'Province']\n",
    "df_annual.reset_index(inplace=True, drop=True)\n",
    "df_annual.head() "
   ]
  },
  {
   "cell_type": "code",
   "execution_count": 7,
   "metadata": {},
   "outputs": [
    {
     "data": {
      "text/plain": [
       "'Acadia Valley, Alberta'"
      ]
     },
     "execution_count": 7,
     "metadata": {},
     "output_type": "execute_result"
    }
   ],
   "source": [
    "address = df_annual.iloc[0][\"address\"]\n",
    "address"
   ]
  },
  {
   "cell_type": "code",
   "execution_count": 8,
   "metadata": {},
   "outputs": [
    {
     "data": {
      "text/plain": [
       "3506"
      ]
     },
     "execution_count": 8,
     "metadata": {},
     "output_type": "execute_result"
    }
   ],
   "source": [
    "len(df_annual['address'].unique())"
   ]
  },
  {
   "cell_type": "code",
   "execution_count": 9,
   "metadata": {},
   "outputs": [
    {
     "name": "stdout",
     "output_type": "stream",
     "text": [
      "Acadia Valley, Division No. 4, Alberta, Canada\n",
      "Latitude =  51.1586763 \n",
      "\n",
      "Longitude =  -110.210332\n"
     ]
    }
   ],
   "source": [
    "# try running this block first to see if can create latitude and longtitude of one single location \n",
    "loc = Nominatim(user_agent=\"Geopy Library\")\n",
    "getLoc = loc.geocode(address)\n",
    "\n",
    "print(getLoc.address)\n",
    "print(\"Latitude = \", getLoc.latitude, \"\\n\")\n",
    "print(\"Longitude = \", getLoc.longitude)"
   ]
  },
  {
   "cell_type": "code",
   "execution_count": 10,
   "metadata": {},
   "outputs": [
    {
     "name": "stdout",
     "output_type": "stream",
     "text": [
      "Index 0 completed\n",
      "[51.1586763]\n",
      "[-110.210332]\n"
     ]
    }
   ],
   "source": [
    "geolocator = geopy.Nominatim(user_agent=\"Geopy Library\")\n",
    "lat = []\n",
    "lon = []\n",
    "\n",
    "for i, address in enumerate(df_annual.address[:50]):\n",
    "    try:\n",
    "        getLoc = geolocator.geocode(address)\n",
    "        lat.append(getLoc.latitude)\n",
    "        lon.append(getLoc.longitude)\n",
    "    except:\n",
    "        getLoc = geolocator.geocode(address)\n",
    "        lat.append(pd.NA)\n",
    "        lon.append(pd.NA)\n",
    "\n",
    "    if i % 100 == 0:\n",
    "        print(f'Index {i} completed')\n",
    "        print(lat)\n",
    "        print(lon)\n"
   ]
  },
  {
   "cell_type": "code",
   "execution_count": 12,
   "metadata": {},
   "outputs": [
    {
     "data": {
      "text/plain": [
       "(50, 50)"
      ]
     },
     "execution_count": 12,
     "metadata": {},
     "output_type": "execute_result"
    }
   ],
   "source": [
    "len(lat), len(lon)"
   ]
  },
  {
   "cell_type": "code",
   "execution_count": null,
   "metadata": {},
   "outputs": [],
   "source": []
  },
  {
   "cell_type": "code",
   "execution_count": 24,
   "metadata": {},
   "outputs": [
    {
     "ename": "KeyboardInterrupt",
     "evalue": "",
     "output_type": "error",
     "traceback": [
      "\u001b[1;31m---------------------------------------------------------------------------\u001b[0m",
      "\u001b[1;31mKeyboardInterrupt\u001b[0m                         Traceback (most recent call last)",
      "Cell \u001b[1;32mIn[24], line 16\u001b[0m\n\u001b[0;32m     14\u001b[0m \u001b[38;5;28;01mif\u001b[39;00m pd\u001b[38;5;241m.\u001b[39misna(row[\u001b[38;5;124m'\u001b[39m\u001b[38;5;124mlatitude\u001b[39m\u001b[38;5;124m'\u001b[39m]) \u001b[38;5;129;01mor\u001b[39;00m pd\u001b[38;5;241m.\u001b[39misna(row[\u001b[38;5;124m'\u001b[39m\u001b[38;5;124mlongitude\u001b[39m\u001b[38;5;124m'\u001b[39m]):  \u001b[38;5;66;03m# Check if geocoding is needed\u001b[39;00m\n\u001b[0;32m     15\u001b[0m     \u001b[38;5;28;01mtry\u001b[39;00m:\n\u001b[1;32m---> 16\u001b[0m         location \u001b[38;5;241m=\u001b[39m \u001b[43mrate_limiter\u001b[49m\u001b[43m(\u001b[49m\u001b[43mrow\u001b[49m\u001b[43m[\u001b[49m\u001b[38;5;124;43m'\u001b[39;49m\u001b[38;5;124;43maddress\u001b[39;49m\u001b[38;5;124;43m'\u001b[39;49m\u001b[43m]\u001b[49m\u001b[43m)\u001b[49m\n\u001b[0;32m     17\u001b[0m         \u001b[38;5;28;01mif\u001b[39;00m location:\n\u001b[0;32m     18\u001b[0m             df_annual\u001b[38;5;241m.\u001b[39mat[index, \u001b[38;5;124m'\u001b[39m\u001b[38;5;124mlatitude\u001b[39m\u001b[38;5;124m'\u001b[39m] \u001b[38;5;241m=\u001b[39m location\u001b[38;5;241m.\u001b[39mlatitude\n",
      "File \u001b[1;32mc:\\Users\\fohy2\\miniconda3\\envs\\solar-saver\\Lib\\site-packages\\geopy\\extra\\rate_limiter.py:272\u001b[0m, in \u001b[0;36mRateLimiter.__call__\u001b[1;34m(self, *args, **kwargs)\u001b[0m\n\u001b[0;32m    270\u001b[0m gen \u001b[38;5;241m=\u001b[39m \u001b[38;5;28mself\u001b[39m\u001b[38;5;241m.\u001b[39m_retries_gen(args, kwargs)\n\u001b[0;32m    271\u001b[0m \u001b[38;5;28;01mfor\u001b[39;00m _ \u001b[38;5;129;01min\u001b[39;00m gen:\n\u001b[1;32m--> 272\u001b[0m     \u001b[38;5;28;43mself\u001b[39;49m\u001b[38;5;241;43m.\u001b[39;49m\u001b[43m_acquire_request_slot\u001b[49m\u001b[43m(\u001b[49m\u001b[43m)\u001b[49m\n\u001b[0;32m    273\u001b[0m     \u001b[38;5;28;01mtry\u001b[39;00m:\n\u001b[0;32m    274\u001b[0m         res \u001b[38;5;241m=\u001b[39m \u001b[38;5;28mself\u001b[39m\u001b[38;5;241m.\u001b[39mfunc(\u001b[38;5;241m*\u001b[39margs, \u001b[38;5;241m*\u001b[39m\u001b[38;5;241m*\u001b[39mkwargs)\n",
      "File \u001b[1;32mc:\\Users\\fohy2\\miniconda3\\envs\\solar-saver\\Lib\\site-packages\\geopy\\extra\\rate_limiter.py:267\u001b[0m, in \u001b[0;36mRateLimiter._acquire_request_slot\u001b[1;34m(self)\u001b[0m\n\u001b[0;32m    265\u001b[0m \u001b[38;5;28;01mdef\u001b[39;00m \u001b[38;5;21m_acquire_request_slot\u001b[39m(\u001b[38;5;28mself\u001b[39m):\n\u001b[0;32m    266\u001b[0m     \u001b[38;5;28;01mfor\u001b[39;00m wait \u001b[38;5;129;01min\u001b[39;00m \u001b[38;5;28mself\u001b[39m\u001b[38;5;241m.\u001b[39m_acquire_request_slot_gen():\n\u001b[1;32m--> 267\u001b[0m         \u001b[38;5;28;43mself\u001b[39;49m\u001b[38;5;241;43m.\u001b[39;49m\u001b[43m_sleep\u001b[49m\u001b[43m(\u001b[49m\u001b[43mwait\u001b[49m\u001b[43m)\u001b[49m\n",
      "File \u001b[1;32mc:\\Users\\fohy2\\miniconda3\\envs\\solar-saver\\Lib\\site-packages\\geopy\\extra\\rate_limiter.py:263\u001b[0m, in \u001b[0;36mRateLimiter._sleep\u001b[1;34m(self, seconds)\u001b[0m\n\u001b[0;32m    261\u001b[0m \u001b[38;5;28;01mdef\u001b[39;00m \u001b[38;5;21m_sleep\u001b[39m(\u001b[38;5;28mself\u001b[39m, seconds):  \u001b[38;5;66;03m# pragma: no cover\u001b[39;00m\n\u001b[0;32m    262\u001b[0m     logger\u001b[38;5;241m.\u001b[39mdebug(\u001b[38;5;28mtype\u001b[39m(\u001b[38;5;28mself\u001b[39m)\u001b[38;5;241m.\u001b[39m\u001b[38;5;18m__name__\u001b[39m \u001b[38;5;241m+\u001b[39m \u001b[38;5;124m\"\u001b[39m\u001b[38;5;124m sleep(\u001b[39m\u001b[38;5;132;01m%r\u001b[39;00m\u001b[38;5;124m)\u001b[39m\u001b[38;5;124m\"\u001b[39m, seconds)\n\u001b[1;32m--> 263\u001b[0m     \u001b[43msleep\u001b[49m\u001b[43m(\u001b[49m\u001b[43mseconds\u001b[49m\u001b[43m)\u001b[49m\n",
      "\u001b[1;31mKeyboardInterrupt\u001b[0m: "
     ]
    }
   ],
   "source": [
    "# then run this \n",
    "\n",
    "if 'latitude' not in df_annual.columns:\n",
    "    df_annual['latitude'] = pd.NA\n",
    "if 'longitude' not in df_annual.columns:\n",
    "    df_annual['longitude'] = pd.NA\n",
    "\n",
    "# Set up the geolocator with rate limiting\n",
    "geolocator = geopy.Nominatim(user_agent=\"Geopy Library\")\n",
    "rate_limiter = RateLimiter(geolocator.geocode, min_delay_seconds=1)  # adjust min_delay_seconds as needed\n",
    "\n",
    "for index, row in df_annual.iterrows():\n",
    "    \n",
    "    if pd.isna(row['latitude']) or pd.isna(row['longitude']):  # Check if geocoding is needed\n",
    "        try:\n",
    "            location = rate_limiter(row['address'])\n",
    "            if location:\n",
    "                df_annual.at[index, 'latitude'] = location.latitude\n",
    "                df_annual.at[index, 'longitude'] = location.longitude\n",
    "        except geopy.exc.GeocoderServiceError as e:\n",
    "            print(f\"Error geocoding {row['address']}: {e}\")\n",
    "\n",
    "print(df_annual.head())  # Show the first few rows to check"
   ]
  }
 ],
 "metadata": {
  "kernelspec": {
   "display_name": "mds574",
   "language": "python",
   "name": "python3"
  },
  "language_info": {
   "codemirror_mode": {
    "name": "ipython",
    "version": 3
   },
   "file_extension": ".py",
   "mimetype": "text/x-python",
   "name": "python",
   "nbconvert_exporter": "python",
   "pygments_lexer": "ipython3",
   "version": "3.12.2"
  }
 },
 "nbformat": 4,
 "nbformat_minor": 2
}
